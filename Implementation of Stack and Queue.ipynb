{
 "cells": [
  {
   "cell_type": "code",
   "execution_count": 2,
   "metadata": {},
   "outputs": [
    {
     "name": "stdout",
     "output_type": "stream",
     "text": [
      "Enter the size of the stack12\n",
      "Menu\n",
      "1.push(P)\n",
      "2.pop(O)3.peek(L)\n",
      "enter your choice:\n",
      "w\n",
      "enter proper coice or q-quit\n",
      "enter your choice:\n",
      "q\n",
      "enter proper coice or q-quit\n"
     ]
    }
   ],
   "source": [
    "def createStack():\n",
    "    stack=[]\n",
    "    return stack\n",
    "def isEmpty(stack):\n",
    "    return len(stack)==0\n",
    "def push(stack,item):\n",
    "    if(len(stack)==size):\n",
    "        print(\"overflow\")\n",
    "        return\n",
    "    stack.append(item)\n",
    "def pop(stack):\n",
    "    if(isEmpty(stack)):\n",
    "        print(\"underflow\")\n",
    "        return\n",
    "    return stack.pop()\n",
    "def peek(stack):\n",
    "    if(isEmpty(stack)):\n",
    "        print(\"stack empty\")\n",
    "        return\n",
    "    else:\n",
    "        n = len(stack)\n",
    "        print(\"peek element is:\",stack[n-1])\n",
    "def display(stack):\n",
    "    print(stack)\n",
    "stack=createStack()\n",
    "size = int(input(\"Enter the size of the stack\"))\n",
    "print(\"Menu\\n1.push(P)\\n2.pop(O)3.peek(L)\")\n",
    "choice=1\n",
    "while choice!='q':\n",
    "    print(\"enter your choice:\")\n",
    "    ch=input()\n",
    "    choice=ch.lower()\n",
    "    if choice=='p':\n",
    "        push(stack,int(input(\"enter a value:\")))\n",
    "        display(stack)\n",
    "    elif choice=='o':\n",
    "        pop(stack)\n",
    "        display(stack)\n",
    "    elif choice=='e':\n",
    "        peek(stack)\n",
    "    else:\n",
    "        print(\"enter proper coice or q-quit\")"
   ]
  },
  {
   "cell_type": "code",
   "execution_count": 3,
   "metadata": {},
   "outputs": [
    {
     "name": "stdout",
     "output_type": "stream",
     "text": [
      "1.enqueue 2.dequeue 3.display\n",
      "enter choice:3\n",
      "[]\n",
      "1.enqueue 2.dequeue 3.display\n",
      "enter choice:4\n"
     ]
    }
   ],
   "source": [
    "front=0\n",
    "max=5\n",
    "rear=0\n",
    "def create():\n",
    "    queue=[]\n",
    "    return queue\n",
    "def isempty(queue):\n",
    "    return len(queue)==0\n",
    "def enqueue(queue,item):\n",
    "    queue.append(item)\n",
    "def dequeue(queue):\n",
    "    if(isempty(queue)):\n",
    "        return \"queue underflow\"\n",
    "    item=queue[0]\n",
    "    return item\n",
    "queue=create()\n",
    "while True:\n",
    "    print(\"1.enqueue 2.dequeue 3.display\")\n",
    "    ch=int(input(\"enter choice:\"))\n",
    "    if ch==1:\n",
    "        if rear<max:\n",
    "            item=input(\"enter data\")\n",
    "            enqueue(queue,item)\n",
    "            rear+=1\n",
    "        else:\n",
    "            print(\"queue overflow\")\n",
    "    elif ch==2:\n",
    "        print(dequeue(queue))\n",
    "    elif ch==3:\n",
    "        print(queue)\n",
    "    else:\n",
    "        break"
   ]
  },
  {
   "cell_type": "code",
   "execution_count": null,
   "metadata": {},
   "outputs": [],
   "source": []
  }
 ],
 "metadata": {
  "kernelspec": {
   "display_name": "Python 3",
   "language": "python",
   "name": "python3"
  },
  "language_info": {
   "codemirror_mode": {
    "name": "ipython",
    "version": 3
   },
   "file_extension": ".py",
   "mimetype": "text/x-python",
   "name": "python",
   "nbconvert_exporter": "python",
   "pygments_lexer": "ipython3",
   "version": "3.7.6"
  }
 },
 "nbformat": 4,
 "nbformat_minor": 4
}
