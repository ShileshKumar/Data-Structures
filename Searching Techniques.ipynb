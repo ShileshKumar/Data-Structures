{
 "cells": [
  {
   "cell_type": "code",
   "execution_count": 2,
   "metadata": {},
   "outputs": [
    {
     "name": "stdout",
     "output_type": "stream",
     "text": [
      "what are you searching for?: 12\n",
      "element does not exist\n"
     ]
    }
   ],
   "source": [
    "def linear_search(obj, item):\n",
    "    for i in range(len(obj)):\n",
    "        if obj[i] == item:\n",
    "            return i\n",
    "    return -1\n",
    "#Driver code\n",
    "arr=[1,2,3,4,5,6,7,8]\n",
    "x=int(input(\"what are you searching for?: \"))\n",
    "result=linear_search(arr,x)\n",
    "if result==-1:\n",
    "    print (\"element does not exist\")\n",
    "else:\n",
    "    print (\"element exist in position %d\" %result)"
   ]
  },
  {
   "cell_type": "code",
   "execution_count": 1,
   "metadata": {},
   "outputs": [
    {
     "name": "stdout",
     "output_type": "stream",
     "text": [
      "what are you searching for?: 12\n",
      "element not found\n"
     ]
    }
   ],
   "source": [
    "array =[1,2,3,4,5,6,7,8,9]\n",
    "def binary_search(searchfor,array):\n",
    "    lowerbound=0\n",
    "    upperbound=len(array)-1\n",
    "    found=False\n",
    "    while found==False and lowerbound<=upperbound:\n",
    "        midpoint=(lowerbound+upperbound)//2\n",
    "        if array[midpoint]==searchfor:\n",
    "            found =True\n",
    "            return found\n",
    "        elif array[midpoint]<searchfor:\n",
    "            lowerbound=midpoint+1\n",
    "        else:\n",
    "            upperbound=midpoint-1\n",
    "    return found\n",
    "#Driver code\n",
    "searchfor=int(input(\"what are you searching for?: \"))\n",
    "if binary_search(searchfor,array):\n",
    "    print (\"element found\")\n",
    "else:\n",
    "    print (\"element not found\")"
   ]
  },
  {
   "cell_type": "code",
   "execution_count": null,
   "metadata": {},
   "outputs": [],
   "source": []
  }
 ],
 "metadata": {
  "kernelspec": {
   "display_name": "Python 3",
   "language": "python",
   "name": "python3"
  },
  "language_info": {
   "codemirror_mode": {
    "name": "ipython",
    "version": 3
   },
   "file_extension": ".py",
   "mimetype": "text/x-python",
   "name": "python",
   "nbconvert_exporter": "python",
   "pygments_lexer": "ipython3",
   "version": "3.7.6"
  }
 },
 "nbformat": 4,
 "nbformat_minor": 4
}
