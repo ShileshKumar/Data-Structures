{
 "cells": [
  {
   "cell_type": "code",
   "execution_count": 3,
   "metadata": {},
   "outputs": [
    {
     "name": "stdout",
     "output_type": "stream",
     "text": [
      "largest element is 9\n"
     ]
    }
   ],
   "source": [
    "def large(arr):\n",
    "    n=len(arr)\n",
    "    l=0\n",
    "    for i in range(0,n-1):\n",
    "        if arr[i]>l:\n",
    "            l=arr[i]\n",
    "    print(\"largest element is %d\" %l)\n",
    "    # Driver code\n",
    "arr=[3,2,4,1,5,8,6,9,7]\n",
    "large(arr)"
   ]
  },
  {
   "cell_type": "code",
   "execution_count": 6,
   "metadata": {},
   "outputs": [
    {
     "name": "stdout",
     "output_type": "stream",
     "text": [
      "Enter number of terms:4\n",
      "Fibonacci sequence using Recursion :\n",
      "0\n",
      "1\n",
      "1\n",
      "2\n"
     ]
    }
   ],
   "source": [
    "def gen_seq(length):\n",
    "    if(length <= 1):\n",
    "        return length\n",
    "    else:\n",
    "        return (gen_seq(length-1) + gen_seq(length-2))\n",
    "    \n",
    "length = int(input(\"Enter number of terms:\"))\n",
    "    \n",
    "print(\"Fibonacci sequence using Recursion :\")\n",
    "    \n",
    "for iter in range(length):\n",
    "    print(gen_seq(iter))"
   ]
  },
  {
   "cell_type": "code",
   "execution_count": 7,
   "metadata": {},
   "outputs": [
    {
     "name": "stdout",
     "output_type": "stream",
     "text": [
      "Enter first number: 1\n",
      "Enter second number: 2\n",
      "The GCD of 1 and 2 is 1\n"
     ]
    }
   ],
   "source": [
    "def computeGCD(x, y):\n",
    "    # choose the smaller number\n",
    "    if x > y:\n",
    "        smaller = y\n",
    "    else:\n",
    "        smaller = x\n",
    "    for i in range(1, smaller+1):\n",
    "        if((x % i == 0) and (y % i == 0)):\n",
    "            gcd= i\n",
    "    return gcd\n",
    "#Driver Code\n",
    "num1 = int(input(\"Enter first number: \"))\n",
    "num2 = int(input(\"Enter second number: \"))\n",
    "print(\"The GCD of\", num1,\"and\", num2,\"is\", computeGCD(num1, num2))"
   ]
  },
  {
   "cell_type": "code",
   "execution_count": null,
   "metadata": {},
   "outputs": [],
   "source": []
  }
 ],
 "metadata": {
  "kernelspec": {
   "display_name": "Python 3",
   "language": "python",
   "name": "python3"
  },
  "language_info": {
   "codemirror_mode": {
    "name": "ipython",
    "version": 3
   },
   "file_extension": ".py",
   "mimetype": "text/x-python",
   "name": "python",
   "nbconvert_exporter": "python",
   "pygments_lexer": "ipython3",
   "version": "3.7.6"
  }
 },
 "nbformat": 4,
 "nbformat_minor": 4
}
