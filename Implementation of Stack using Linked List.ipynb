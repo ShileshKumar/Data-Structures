{
 "cells": [
  {
   "cell_type": "code",
   "execution_count": 1,
   "metadata": {},
   "outputs": [],
   "source": [
    "class StackNode:\n",
    "    def __init__(self,data):\n",
    "        self.data=data\n",
    "        self.next=None\n",
    "class Stack:\n",
    "    def __init__(self):\n",
    "        self.root=None\n",
    "    def isEmpty(self):\n",
    "        return True if self.root is None else False\n",
    "    def push(self,data):\n",
    "        newNode=StackNode(data)\n",
    "        newNode.next=self.root\n",
    "        self.root=newNode\n",
    "        print(data,\"pushed to stack\")\n",
    "    def pop(self):\n",
    "        if self.isEmpty():\n",
    "            return float(\"-inf\")\n",
    "        temp=self.root\n",
    "        self.root=self.root.next\n",
    "        popped=temp.data\n",
    "        return popped\n",
    "    def peek(self):\n",
    "        if self.isEmpty():\n",
    "            return float(\"-inf\")\n",
    "        return self.root.data"
   ]
  },
  {
   "cell_type": "code",
   "execution_count": null,
   "metadata": {},
   "outputs": [],
   "source": []
  }
 ],
 "metadata": {
  "kernelspec": {
   "display_name": "Python 3",
   "language": "python",
   "name": "python3"
  },
  "language_info": {
   "codemirror_mode": {
    "name": "ipython",
    "version": 3
   },
   "file_extension": ".py",
   "mimetype": "text/x-python",
   "name": "python",
   "nbconvert_exporter": "python",
   "pygments_lexer": "ipython3",
   "version": "3.7.6"
  }
 },
 "nbformat": 4,
 "nbformat_minor": 4
}
