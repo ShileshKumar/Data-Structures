{
 "cells": [
  {
   "cell_type": "code",
   "execution_count": 4,
   "metadata": {},
   "outputs": [
    {
     "name": "stdout",
     "output_type": "stream",
     "text": [
      "Enter the infix notation : (a+b)*(c-d/e)*g+h\n",
      "It's postfix notation is : ab+cde/-*g*h+\n"
     ]
    }
   ],
   "source": [
    "#infix to postfix expression conversion\n",
    "postfix = []\n",
    "temp = []\n",
    "operator = -1\n",
    "operand = -2\n",
    "leftparantheses = -3\n",
    "rightparantheses = -4\n",
    "empty = -5\n",
    "\n",
    "def precedence(s):\n",
    "    \n",
    "    if s == '(':\n",
    "        return 0\n",
    "    elif s == '+' or s == '-':\n",
    "        return 1\n",
    "    elif s == '*' or s == '/':\n",
    "        return 2\n",
    "    elif s == '%':\n",
    "        return 3\n",
    "    else:\n",
    "        return 99\n",
    "\n",
    "def typeof(s):\n",
    "    if s == '(':\n",
    "        return leftparantheses\n",
    "    elif s == ')':\n",
    "        return rightparantheses\n",
    "    elif s == '+' or s == '-' or s == '*' or s == '*' or s == '/' or s == '%' or s == '^':\n",
    "        return operator\n",
    "    else:\n",
    "        return operand\n",
    "\n",
    "infix = input('Enter the infix notation : ')\n",
    "for i in infix:\n",
    "    t = typeof(i)\n",
    "    if t == leftparantheses:\n",
    "        temp.append(i)\n",
    "    elif t == rightparantheses:\n",
    "        next = temp.pop()\n",
    "        while next != '(':\n",
    "            postfix.append(next)\n",
    "            next = temp.pop()\n",
    "    elif t == operand:\n",
    "        postfix.append(i)\n",
    "    elif t == operator:\n",
    "        p = precedence(i)\n",
    "        if len(temp)==0:\n",
    "            temp.append(i)\n",
    "        elif p > precedence(temp[-1]):\n",
    "            temp.append(i)\n",
    "        else:\n",
    "            while len(temp) != 0 and p <= precedence(temp[-1]):\n",
    "                postfix.append(temp.pop())\n",
    "            temp.append(i)\n",
    "    elif t == empty:\n",
    "            continue\n",
    "            \n",
    "while len(temp) > 0:\n",
    "    postfix.append(temp.pop())\n",
    "    \n",
    "print(\"It's postfix notation is :\",''.join(postfix))"
   ]
  },
  {
   "cell_type": "code",
   "execution_count": 13,
   "metadata": {},
   "outputs": [
    {
     "name": "stdout",
     "output_type": "stream",
     "text": [
      "Enter the postfix expression : 456*+\n",
      "Resultant value : 34\n"
     ]
    }
   ],
   "source": [
    "#Postfix expression evaluation\n",
    "postfix = input('Enter the postfix expression : ')\n",
    "stack = []\n",
    "\n",
    "for i in postfix:\n",
    "    \n",
    "    if i.isdigit():\n",
    "        stack.append(i)      \n",
    "    elif i == '+':\n",
    "        operand2 = stack.pop()\n",
    "        operand1 = stack.pop()\n",
    "        stack.append(int(operand1)+int(operand2))\n",
    "    elif i == '-':\n",
    "        operand2 = stack.pop()\n",
    "        operand1 = stack.pop()\n",
    "        stack.append(int(operand1)-int(operand2))        \n",
    "    elif i == '*':\n",
    "        operand2 = stack.pop()\n",
    "        operand1 = stack.pop()\n",
    "        stack.append(int(operand1)*int(operand2))        \n",
    "    elif i == '/':\n",
    "        operand2 = stack.pop()\n",
    "        operand1 = stack.pop()\n",
    "        stack.append(int(operand1)/int(operand2))        \n",
    "    elif i == '%':\n",
    "        operand2 = stack.pop()\n",
    "        operand1 = stack.pop()\n",
    "        stack.append(int(operand1)%int(operand2))    \n",
    "    elif i == '^':\n",
    "        operand2 = stack.pop()\n",
    "        operand1 = stack.pop()\n",
    "        stack.append(pow(int(operand1),int(operand2)))   \n",
    "                     \n",
    "print(\"Resultant value :\",stack.pop())"
   ]
  },
  {
   "cell_type": "raw",
   "metadata": {},
   "source": [
    "What are the steps to convert infix expression to postfix expression?\n",
    "\n",
    "In this case, We use the stacks to convert infix to postfix. We have operator's stack, output's stack and one input string. Operator's stack works as FILO(First In Last Out). Output's stack works as FIFO (First In First Out).\n",
    "\n",
    "The following algorithm converts infix to postfix.\n",
    "\n",
    "Scan input string from left to right character by character.\n",
    "If the character is an operand, put it into output stack.\n",
    "If the character is an operator and operator's stack is empty, push operator into operators' stack.\n",
    "If the operator's stack is not empty, there may be following possibilites.\n",
    "If the precedence of scanned operator is greater than the top most operator of operator's stack, push this operator into operand's stack.\n",
    "If the precedence of scanned operator is less than or equal to the top most operator of operator's stack, pop the operators from operand's stack untill we find a low precedence operator than the scanned character. Never pop out ( '(' ) or ( ')' ) whatever may be the precedence level of scanned character.\n",
    "If the character is opening round bracket ( '(' ), push it into operator's stack.\n",
    "If the character is closing round bracket ( ')' ), pop out operators from operator's stack untill we find an opening bracket ('(' ).\n",
    "Now pop out all the remaining operators from the operator's stack and push into output stack."
   ]
  }
 ],
 "metadata": {
  "kernelspec": {
   "display_name": "Python 3",
   "language": "python",
   "name": "python3"
  },
  "language_info": {
   "codemirror_mode": {
    "name": "ipython",
    "version": 3
   },
   "file_extension": ".py",
   "mimetype": "text/x-python",
   "name": "python",
   "nbconvert_exporter": "python",
   "pygments_lexer": "ipython3",
   "version": "3.7.6"
  }
 },
 "nbformat": 4,
 "nbformat_minor": 4
}
