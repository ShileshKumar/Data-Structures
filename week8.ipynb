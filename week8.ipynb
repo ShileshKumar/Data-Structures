{
 "cells": [
  {
   "cell_type": "code",
   "execution_count": 1,
   "metadata": {},
   "outputs": [],
   "source": [
    "class node:\n",
    "    def __init__(self,data):\n",
    "        self.data = data\n",
    "        self.prev = None\n",
    "        self.next = None\n",
    "class ll:\n",
    "    def __init__(self):\n",
    "        self.head = None\n",
    "    def insertbeg(self):\n",
    "        n=int(input())\n",
    "        newnode=node(n)\n",
    "        if(self.head==None):\n",
    "            self.head=newnode\n",
    "        else:\n",
    "            temp=self.head\n",
    "            self.head=newnode\n",
    "            self.head.next=temp\n",
    "            temp.prev=self\n",
    "    def insertend(self):\n",
    "        n=int(input())\n",
    "        newnode=node(n)\n",
    "        if(self.head==None):\n",
    "            self.head=newnode\n",
    "        else:\n",
    "            temp=self.head\n",
    "            while(temp.next!=None):\n",
    "                temp=temp.next\n",
    "            temp.next=newnode\n",
    "            newnode.prev=temp\n",
    "    def insertmid(self):\n",
    "        n=int(input())\n",
    "        newnode=node(n)\n",
    "        p=int(input())\n",
    "        temp=self.head\n",
    "        previous=temp\n",
    "        for i in range(p-1):\n",
    "            previous=temp\n",
    "            temp=temp.next\n",
    "        previous.next=newnode\n",
    "        newnode.next=temp\n",
    "        temp.prev=newnode\n",
    "        newnode.prev=previous\n",
    "    def deletebeg(self):\n",
    "        temp=self.head\n",
    "        self.head=temp.next\n",
    "        del temp\n",
    "    def deleteend(self):\n",
    "        temp=self.head\n",
    "        previous=temp\n",
    "        while(temp.next!=None):\n",
    "            previous=temp\n",
    "            temp=temp.next\n",
    "        previous.next=None\n",
    "        del temp\n",
    "    def deletemid(self):\n",
    "        q=int(input())\n",
    "        temp=self.head\n",
    "        previous=self\n",
    "        for i in range(q-1):\n",
    "            previous=temp\n",
    "            temp=temp.next\n",
    "        previous.next=temp.next\n",
    "        temp.next.prev=previous\n",
    "        del temp\n",
    "    def display(self):\n",
    "        temp=self.head\n",
    "        while(temp!=None):\n",
    "            print(temp.data,end=' ')\n",
    "            temp=temp.next\n",
    "        print()\n",
    "    def reverse(self):\n",
    "        temp=self.head\n",
    "        while(temp.next!=None):\n",
    "            temp=temp.next\n",
    "        while(temp!=None):\n",
    "            print(temp.data,end=' ')\n",
    "            temp=temp.prev\n",
    "        print()"
   ]
  },
  {
   "cell_type": "code",
   "execution_count": 2,
   "metadata": {},
   "outputs": [
    {
     "name": "stdout",
     "output_type": "stream",
     "text": [
      "1\n",
      "3\n",
      "2\n",
      "3\n"
     ]
    },
    {
     "ename": "AttributeError",
     "evalue": "'NoneType' object has no attribute 'prev'",
     "output_type": "error",
     "traceback": [
      "\u001b[1;31m---------------------------------------------------------------------------\u001b[0m",
      "\u001b[1;31mAttributeError\u001b[0m                            Traceback (most recent call last)",
      "\u001b[1;32m<ipython-input-2-e7a42776917d>\u001b[0m in \u001b[0;36m<module>\u001b[1;34m\u001b[0m\n\u001b[0;32m      2\u001b[0m \u001b[0mx\u001b[0m\u001b[1;33m.\u001b[0m\u001b[0minsertbeg\u001b[0m\u001b[1;33m(\u001b[0m\u001b[1;33m)\u001b[0m\u001b[1;33m\u001b[0m\u001b[1;33m\u001b[0m\u001b[0m\n\u001b[0;32m      3\u001b[0m \u001b[0mx\u001b[0m\u001b[1;33m.\u001b[0m\u001b[0minsertend\u001b[0m\u001b[1;33m(\u001b[0m\u001b[1;33m)\u001b[0m\u001b[1;33m\u001b[0m\u001b[1;33m\u001b[0m\u001b[0m\n\u001b[1;32m----> 4\u001b[1;33m \u001b[0mx\u001b[0m\u001b[1;33m.\u001b[0m\u001b[0minsertmid\u001b[0m\u001b[1;33m(\u001b[0m\u001b[1;33m)\u001b[0m\u001b[1;33m\u001b[0m\u001b[1;33m\u001b[0m\u001b[0m\n\u001b[0m\u001b[0;32m      5\u001b[0m \u001b[0mx\u001b[0m\u001b[1;33m.\u001b[0m\u001b[0mdisplay\u001b[0m\u001b[1;33m(\u001b[0m\u001b[1;33m)\u001b[0m\u001b[1;33m\u001b[0m\u001b[1;33m\u001b[0m\u001b[0m\n\u001b[0;32m      6\u001b[0m \u001b[0mx\u001b[0m\u001b[1;33m.\u001b[0m\u001b[0mreverse\u001b[0m\u001b[1;33m(\u001b[0m\u001b[1;33m)\u001b[0m\u001b[1;33m\u001b[0m\u001b[1;33m\u001b[0m\u001b[0m\n",
      "\u001b[1;32m<ipython-input-1-10ebbca5f96c>\u001b[0m in \u001b[0;36minsertmid\u001b[1;34m(self)\u001b[0m\n\u001b[0;32m     39\u001b[0m         \u001b[0mprevious\u001b[0m\u001b[1;33m.\u001b[0m\u001b[0mnext\u001b[0m\u001b[1;33m=\u001b[0m\u001b[0mnewnode\u001b[0m\u001b[1;33m\u001b[0m\u001b[1;33m\u001b[0m\u001b[0m\n\u001b[0;32m     40\u001b[0m         \u001b[0mnewnode\u001b[0m\u001b[1;33m.\u001b[0m\u001b[0mnext\u001b[0m\u001b[1;33m=\u001b[0m\u001b[0mtemp\u001b[0m\u001b[1;33m\u001b[0m\u001b[1;33m\u001b[0m\u001b[0m\n\u001b[1;32m---> 41\u001b[1;33m         \u001b[0mtemp\u001b[0m\u001b[1;33m.\u001b[0m\u001b[0mprev\u001b[0m\u001b[1;33m=\u001b[0m\u001b[0mnewnode\u001b[0m\u001b[1;33m\u001b[0m\u001b[1;33m\u001b[0m\u001b[0m\n\u001b[0m\u001b[0;32m     42\u001b[0m         \u001b[0mnewnode\u001b[0m\u001b[1;33m.\u001b[0m\u001b[0mprev\u001b[0m\u001b[1;33m=\u001b[0m\u001b[0mprevious\u001b[0m\u001b[1;33m\u001b[0m\u001b[1;33m\u001b[0m\u001b[0m\n\u001b[0;32m     43\u001b[0m     \u001b[1;32mdef\u001b[0m \u001b[0mdeletebeg\u001b[0m\u001b[1;33m(\u001b[0m\u001b[0mself\u001b[0m\u001b[1;33m)\u001b[0m\u001b[1;33m:\u001b[0m\u001b[1;33m\u001b[0m\u001b[1;33m\u001b[0m\u001b[0m\n",
      "\u001b[1;31mAttributeError\u001b[0m: 'NoneType' object has no attribute 'prev'"
     ]
    }
   ],
   "source": [
    "x=ll()\n",
    "x.insertbeg()\n",
    "x.insertend()\n",
    "x.insertmid()\n",
    "x.display()\n",
    "x.reverse()\n",
    "x.deletemid()\n",
    "x.deletebeg()\n",
    "x.display()"
   ]
  },
  {
   "cell_type": "code",
   "execution_count": null,
   "metadata": {},
   "outputs": [],
   "source": []
  }
 ],
 "metadata": {
  "kernelspec": {
   "display_name": "Python 3",
   "language": "python",
   "name": "python3"
  },
  "language_info": {
   "codemirror_mode": {
    "name": "ipython",
    "version": 3
   },
   "file_extension": ".py",
   "mimetype": "text/x-python",
   "name": "python",
   "nbconvert_exporter": "python",
   "pygments_lexer": "ipython3",
   "version": "3.7.6"
  }
 },
 "nbformat": 4,
 "nbformat_minor": 4
}
