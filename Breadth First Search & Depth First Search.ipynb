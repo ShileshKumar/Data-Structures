{
 "cells": [
  {
   "cell_type": "code",
   "execution_count": 3,
   "metadata": {},
   "outputs": [
    {
     "name": "stdout",
     "output_type": "stream",
     "text": [
      "BFS: \n",
      "1\n",
      "2\n",
      "3\n",
      "4\n",
      "5\n",
      "DFS: \n",
      "1\n",
      "4\n",
      "5\n",
      "3\n",
      "2\n"
     ]
    }
   ],
   "source": [
    "import collections\n",
    "def bfs(graph,root):\n",
    "    visited=set()\n",
    "    queue=collections.deque([root])\n",
    "    visited.add(root)\n",
    "\n",
    "    while queue:\n",
    "        vertex=queue.popleft()\n",
    "        print(vertex)\n",
    "        for neighbour in graph[vertex]:\n",
    "            if neighbour not in visited:\n",
    "                visited.add(neighbour)\n",
    "                queue.append(neighbour)\n",
    "def dfs(graph,root):\n",
    "    visited=set()\n",
    "    stack=[root]\n",
    "    visited.add(root)\n",
    "\n",
    "    while stack:\n",
    "        vertex=stack.pop()\n",
    "        print(vertex)\n",
    "        for neighbour in graph[vertex]:\n",
    "            if neighbour not in visited:\n",
    "                visited.add(neighbour)\n",
    "                stack.append(neighbour)\n",
    "\n",
    "#driver code\n",
    "graph={1: [2,3,4], 2: [1,3], 3: [1,2,4,5], 4: [1,3,5], 5: [3,4]}\n",
    "print(\"BFS: \")\n",
    "bfs(graph,1)\n",
    "print(\"DFS: \")\n",
    "dfs(graph,1)"
   ]
  },
  {
   "cell_type": "code",
   "execution_count": null,
   "metadata": {},
   "outputs": [],
   "source": []
  }
 ],
 "metadata": {
  "kernelspec": {
   "display_name": "Python 3",
   "language": "python",
   "name": "python3"
  },
  "language_info": {
   "codemirror_mode": {
    "name": "ipython",
    "version": 3
   },
   "file_extension": ".py",
   "mimetype": "text/x-python",
   "name": "python",
   "nbconvert_exporter": "python",
   "pygments_lexer": "ipython3",
   "version": "3.7.6"
  }
 },
 "nbformat": 4,
 "nbformat_minor": 4
}
